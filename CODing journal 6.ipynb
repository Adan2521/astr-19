{
 "cells": [
  {
   "cell_type": "code",
   "execution_count": null,
   "id": "093a1f4a-e17b-4c60-9e95-c1c89ac2f269",
   "metadata": {},
   "outputs": [],
   "source": [
    "import math\n",
    "\n",
    "def sin_func(x):\n",
    "    return math.sin(x)\n",
    "    "
   ]
  },
  {
   "cell_type": "markdown",
   "id": "a85201c9-fb68-42e3-b3ab-e5281b73259c",
   "metadata": {
    "collapsed": true,
    "jupyter": {
     "outputs_hidden": true
    }
   },
   "source": [
    "this function will take a vaule of X and returns the sine of X using the math.sin() function that we can use from import math"
   ]
  },
  {
   "cell_type": "code",
   "execution_count": null,
   "id": "98bd4a14-b606-4cd5-8d3f-3e4ee81c952c",
   "metadata": {},
   "outputs": [],
   "source": [
    "def cos_func(x):\n",
    "    return math.cos(x)\n",
    "    "
   ]
  },
  {
   "cell_type": "markdown",
   "id": "e0bb82be-e1ee-4ffa-a429-3bbcc36db843",
   "metadata": {},
   "source": [
    "this function takes the vaule of X and returns the cosine of X "
   ]
  },
  {
   "cell_type": "code",
   "execution_count": null,
   "id": "e0cd87af-3453-41f4-a204-a1745da8cb60",
   "metadata": {},
   "outputs": [],
   "source": [
    "x_values = [i * (2 * math.pi / 999) for i in range(1000)]\n",
    "sin_values = [sin_func(x) for x in x_values]\n",
    "cos_values = [cos_func(x) for x in x_values]\n"
   ]
  },
  {
   "cell_type": "markdown",
   "id": "5c657d4e-c93c-4a84-a1cb-b79dff4505dc",
   "metadata": {},
   "source": [
    "in this function it makes 1000 values of x bewteen 0 and 2pi and then uses the fucntions defined above to calculate sin and cos"
   ]
  },
  {
   "cell_type": "code",
   "execution_count": null,
   "id": "55cc2490-6022-4aea-acf7-7f04aad1ac83",
   "metadata": {},
   "outputs": [],
   "source": [
    "print(\"x\\t\\t sin(x)\\t\\t cos(x)\")\n",
    "print(\"-\" * 40)\n",
    "for i in range(10):\n",
    "    print(f\"{x_values[i]:.5f}\\t {sin_values[i]:.5f}\\t {cos_values[i]:.5f}\")"
   ]
  }
 ],
 "metadata": {
  "kernelspec": {
   "display_name": "Python 3 (ipykernel)",
   "language": "python",
   "name": "python3"
  },
  "language_info": {
   "codemirror_mode": {
    "name": "ipython",
    "version": 3
   },
   "file_extension": ".py",
   "mimetype": "text/x-python",
   "name": "python",
   "nbconvert_exporter": "python",
   "pygments_lexer": "ipython3",
   "version": "3.13.7"
  }
 },
 "nbformat": 4,
 "nbformat_minor": 5
}
